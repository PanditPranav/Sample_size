{
 "cells": [
  {
   "cell_type": "markdown",
   "metadata": {},
   "source": [
    "Based on blog \n",
    "\n",
    "https://towardsdatascience.com/how-to-use-python-to-figure-out-sample-sizes-for-your-study-871f0a76a19c"
   ]
  },
  {
   "cell_type": "markdown",
   "metadata": {},
   "source": [
    "## The scenario"
   ]
  },
  {
   "cell_type": "markdown",
   "metadata": {},
   "source": [
    "You are doing a study to understand prevalence of an infection in two populations. Here in this example, we want to understand the prevalence of Pox virus infection in Hummingbirds. We want to test the hypothesis that in Hummingbirds that show clinical signs have higher proportion of Pox virus infection than hummingbirds that do show any clinical signs. We will be using two-proportions Z test to compare these two populations. To make sure how much sample size you would need to have enough power to distinguish the differences in those two populations, we will do following."
   ]
  },
  {
   "cell_type": "code",
   "execution_count": 1,
   "metadata": {},
   "outputs": [],
   "source": [
    "import math\n",
    "import numpy as np\n",
    "from scipy import stats\n",
    "import pandas as pd\n",
    "import seaborn as sns\n",
    "from matplotlib import pyplot as plt\n",
    "plt.style.use('fivethirtyeight')\n",
    "plt.rcParams['lines.linewidth'] = 1\n",
    "dpi = 1000\n",
    "plt.rcParams['font.family'] = 'Times New Roman'\n",
    "\n",
    "\n",
    "%matplotlib inline\n",
    "\n",
    "def z_calc(p1, p2, n1, n2):\n",
    "    p_star = (p1*n1 + p2*n2) / (n1 + n2)\n",
    "    return (p2 - p1) / math.sqrt(p_star*(1 - p_star)*((1.0 / n1) + (1.0 / n2)))"
   ]
  },
  {
   "cell_type": "code",
   "execution_count": 6,
   "metadata": {},
   "outputs": [
    {
     "data": {
      "text/plain": [
       "0.8289438736915182"
      ]
     },
     "execution_count": 6,
     "metadata": {},
     "output_type": "execute_result"
    }
   ],
   "source": [
    "stats.norm.cdf(0.95)"
   ]
  },
  {
   "cell_type": "code",
   "execution_count": 2,
   "metadata": {},
   "outputs": [],
   "source": [
    "def sample_required(p1, p_diff, alpha):\n",
    "    if p_diff <= 0:\n",
    "        raise ValueError(\"p_diff must be > 0\")\n",
    "    n = 1\n",
    "    while True:\n",
    "        z = z_calc(p1, p1+p_diff, n1=n, n2=n)\n",
    "        p = 1 - stats.norm.cdf(z)\n",
    "        if p < alpha:\n",
    "            break\n",
    "        n += 1\n",
    "    return n"
   ]
  },
  {
   "cell_type": "code",
   "execution_count": 3,
   "metadata": {},
   "outputs": [],
   "source": [
    "#Map how sample size changes as choice of p1 changes, holding all \n",
    "#else constant.\n",
    "\n",
    "p1s = [x*.01 for x in range(96)]\n",
    "\n",
    "data = []\n",
    "#p_diff = 0.05\n",
    "for p1 in p1s:\n",
    "    record = {}\n",
    "    record['Probability Difference'] = p1\n",
    "    record['Sample Size to Detect Difference'] = sample_required(p1=p1,\n",
    "                                                                p_diff=.05,\n",
    "                                                                alpha=.05)\n",
    "    record['Confidence Level'] = '95%'\n",
    "    record['Initial Probability'] = p1 * 100\n",
    "    data.append(record)\n",
    "    \n",
    "df = pd.DataFrame(data)"
   ]
  },
  {
   "cell_type": "code",
   "execution_count": 4,
   "metadata": {},
   "outputs": [
    {
     "data": {
      "image/png": "[encoded data removed]",
      "text/plain": [
       "<Figure size 432x432 with 1 Axes>"
      ]
     },
     "metadata": {
      "needs_background": "light"
     },
     "output_type": "display_data"
    }
   ],
   "source": [
    "fig, ax = plt.subplots(figsize=(6, 6))\n",
    "plot = sns.pointplot(x='Initial Probability',\n",
    "            y='Sample Size to Detect Difference',\n",
    "            hue='Confidence Level', ax = ax,\n",
    "            data=df)\n",
    "\n",
    "labels = []\n",
    "for i in range(0, 101):\n",
    "    if i % 5 == 0:\n",
    "        labels.append(str(i))\n",
    "    else:\n",
    "        labels.append('')\n",
    "plot.set_xticklabels(labels=labels)\n",
    "plt.show()"
   ]
  },
  {
   "cell_type": "code",
   "execution_count": 5,
   "metadata": {},
   "outputs": [],
   "source": [
    "#Observe probability difference from 2% to 10%\n",
    "p_diffs = [x*.01 for x in range(20,31)]\n",
    "\n",
    "data = []\n",
    "for p_diff in p_diffs:\n",
    "    record = {}\n",
    "    record['Probability Difference'] = p_diff * 100\n",
    "    record['Sample Size to Detect Difference'] = sample_required(p1=.5,\n",
    "                                                                p_diff=p_diff,\n",
    "                                                                alpha=.05)\n",
    "    record['Confidence Level'] = '95%'\n",
    "    record['Initial probability'] = '50%'\n",
    "    data.append(record)\n",
    "\n",
    "for p_diff in p_diffs:\n",
    "    record = {}\n",
    "    record['Probability Difference'] = p_diff * 100\n",
    "    record['Sample Size to Detect Difference'] = sample_required(p1=.5,\n",
    "                                                                p_diff=p_diff,\n",
    "                                                                alpha=.01)\n",
    "    record['Confidence Level'] = '99%'\n",
    "    record['Initial probability'] = '50%'\n",
    "    data.append(record)\n",
    "\n",
    "df = pd.DataFrame(data)"
   ]
  },
  {
   "cell_type": "code",
   "execution_count": 6,
   "metadata": {},
   "outputs": [
    {
     "data": {
      "image/png": "[encoded data removed]",
      "text/plain": [
       "<Figure size 432x432 with 1 Axes>"
      ]
     },
     "metadata": {
      "needs_background": "light"
     },
     "output_type": "display_data"
    }
   ],
   "source": [
    "from matplotlib.ticker import FormatStrFormatter\n",
    "\n",
    "fig, ax = plt.subplots(figsize=(6, 6))\n",
    "\n",
    "sns.pointplot(x='Probability Difference',\n",
    "            y='Sample Size to Detect Difference',\n",
    "            hue='Confidence Level', ax = ax,\n",
    "            data=df)\n",
    "ax.set_xticklabels(p_diffs)\n",
    "ax.set_title('Sample Size required to detect diffrence in prevalence\\n\\n\\n')\n",
    "text2 = 'the Y axis represents number of individuals from both\\npopulations of hummingbirds together, population showing clinical signs\\nand population not showing any signs of pox infection'\n",
    "ax.text(-0.0, 1.02, text2, verticalalignment='bottom', \n",
    "         horizontalalignment='left',\n",
    "         transform=ax.transAxes,\n",
    "         color='gray', fontsize=13)\n",
    "plt.tight_layout()\n",
    "plt.savefig('Sample_size.png', dpi = dpi)\n",
    "plt.show()"
   ]
  },
  {
   "cell_type": "markdown",
   "metadata": {},
   "source": [
    "### Sample size calculation for prevalence study"
   ]
  },
  {
   "cell_type": "markdown",
   "metadata": {},
   "source": [
    "n = (Z2 * P(1 - P))/e2"
   ]
  },
  {
   "cell_type": "code",
   "execution_count": 7,
   "metadata": {},
   "outputs": [],
   "source": [
    "z2 = 1.96**2\n",
    "p = 0.3\n",
    "e = 0.05"
   ]
  },
  {
   "cell_type": "code",
   "execution_count": 8,
   "metadata": {},
   "outputs": [],
   "source": [
    "def calculate_sample_prevalence(Z, P, E):\n",
    "    return (Z**2 * P*(1 - P))/float(E**2)"
   ]
  },
  {
   "cell_type": "code",
   "execution_count": 9,
   "metadata": {},
   "outputs": [
    {
     "data": {
      "text/plain": [
       "380.31839999999994"
      ]
     },
     "execution_count": 9,
     "metadata": {},
     "output_type": "execute_result"
    }
   ],
   "source": [
    "calculate_sample_prevalence(Z = 1.96, P = 0.01, E = 0.01)"
   ]
  },
  {
   "cell_type": "code",
   "execution_count": 10,
   "metadata": {},
   "outputs": [],
   "source": [
    "p1s = [x*.01 for x in range(96)]"
   ]
  },
  {
   "cell_type": "code",
   "execution_count": 11,
   "metadata": {},
   "outputs": [],
   "source": [
    "data = []\n",
    "for p in p1s:\n",
    "    data.append(calculate_sample_prevalence(Z = 1.96, P = p, E = 0.05))"
   ]
  },
  {
   "cell_type": "code",
   "execution_count": 12,
   "metadata": {},
   "outputs": [
    {
     "data": {
      "text/plain": [
       "<matplotlib.axes._subplots.AxesSubplot at 0x1eae7219370>"
      ]
     },
     "execution_count": 12,
     "metadata": {},
     "output_type": "execute_result"
    },
    {
     "data": {
      "image/png": "[encoded data removed]",
      "text/plain": [
       "<Figure size 432x288 with 1 Axes>"
      ]
     },
     "metadata": {
      "needs_background": "light"
     },
     "output_type": "display_data"
    }
   ],
   "source": [
    "sns.pointplot(\n",
    "        x=p1s,\n",
    "        y=data,\n",
    "        )"
   ]
  },
  {
   "cell_type": "code",
   "execution_count": 13,
   "metadata": {},
   "outputs": [
    {
     "data": {
      "text/plain": [
       "72.99039999999998"
      ]
     },
     "execution_count": 13,
     "metadata": {},
     "output_type": "execute_result"
    }
   ],
   "source": [
    "calculate_sample_prevalence(Z = 1.96, P = 0.05, E = 0.05)"
   ]
  },
  {
   "cell_type": "code",
   "execution_count": 14,
   "metadata": {},
   "outputs": [
    {
     "data": {
      "text/plain": [
       "72.99039999999998"
      ]
     },
     "execution_count": 14,
     "metadata": {},
     "output_type": "execute_result"
    }
   ],
   "source": [
    "calculate_sample_prevalence(Z = 1.96, P = 0.05, E = 0.05)"
   ]
  },
  {
   "cell_type": "code",
   "execution_count": 15,
   "metadata": {},
   "outputs": [],
   "source": [
    "def sample_size_prevalence(N, Z, P, E):\n",
    "    return (N*Z**2*P*(1 - P))/float(E**2*(N-1)+(Z**2*P*(1-P)))"
   ]
  },
  {
   "cell_type": "code",
   "execution_count": 20,
   "metadata": {},
   "outputs": [],
   "source": [
    "Ns = np.arange(100, 550, 50)"
   ]
  },
  {
   "cell_type": "code",
   "execution_count": 21,
   "metadata": {},
   "outputs": [],
   "source": [
    "data = []\n",
    "prev = [0.01, 0.05, 0.1, 0.2, 0.4]\n",
    "for p in prev:\n",
    "    for n in Ns:\n",
    "        record = {}\n",
    "        record['Sample Size'] = sample_size_prevalence(N =n,  Z = 1.96, P = p, E = 0.05)\n",
    "        record['expected prevalence'] = p\n",
    "        record['Population Size'] = n\n",
    "        data.append(record)\n",
    "\n",
    "\n",
    "df = pd.DataFrame(data)"
   ]
  },
  {
   "cell_type": "code",
   "execution_count": 22,
   "metadata": {},
   "outputs": [
    {
     "data": {
      "text/html": [
       "<div>\n",
       "<style scoped>\n",
       "    .dataframe tbody tr th:only-of-type {\n",
       "        vertical-align: middle;\n",
       "    }\n",
       "\n",
       "    .dataframe tbody tr th {\n",
       "        vertical-align: top;\n",
       "    }\n",
       "\n",
       "    .dataframe thead th {\n",
       "        text-align: right;\n",
       "    }\n",
       "</style>\n",
       "<table border=\"1\" class=\"dataframe\">\n",
       "  <thead>\n",
       "    <tr style=\"text-align: right;\">\n",
       "      <th></th>\n",
       "      <th>Sample Size</th>\n",
       "      <th>expected prevalence</th>\n",
       "      <th>Population Size</th>\n",
       "    </tr>\n",
       "  </thead>\n",
       "  <tbody>\n",
       "    <tr>\n",
       "      <th>0</th>\n",
       "      <td>13.319649</td>\n",
       "      <td>0.01</td>\n",
       "      <td>100</td>\n",
       "    </tr>\n",
       "    <tr>\n",
       "      <th>1</th>\n",
       "      <td>13.896062</td>\n",
       "      <td>0.01</td>\n",
       "      <td>150</td>\n",
       "    </tr>\n",
       "    <tr>\n",
       "      <th>2</th>\n",
       "      <td>14.203391</td>\n",
       "      <td>0.01</td>\n",
       "      <td>200</td>\n",
       "    </tr>\n",
       "    <tr>\n",
       "      <th>3</th>\n",
       "      <td>14.394401</td>\n",
       "      <td>0.01</td>\n",
       "      <td>250</td>\n",
       "    </tr>\n",
       "    <tr>\n",
       "      <th>4</th>\n",
       "      <td>14.524621</td>\n",
       "      <td>0.01</td>\n",
       "      <td>300</td>\n",
       "    </tr>\n",
       "  </tbody>\n",
       "</table>\n",
       "</div>"
      ],
      "text/plain": [
       "   Sample Size  expected prevalence  Population Size\n",
       "0    13.319649                 0.01              100\n",
       "1    13.896062                 0.01              150\n",
       "2    14.203391                 0.01              200\n",
       "3    14.394401                 0.01              250\n",
       "4    14.524621                 0.01              300"
      ]
     },
     "execution_count": 22,
     "metadata": {},
     "output_type": "execute_result"
    }
   ],
   "source": [
    "df.head()"
   ]
  },
  {
   "cell_type": "code",
   "execution_count": 25,
   "metadata": {},
   "outputs": [
    {
     "data": {
      "text/html": [
       "<div>\n",
       "<style scoped>\n",
       "    .dataframe tbody tr th:only-of-type {\n",
       "        vertical-align: middle;\n",
       "    }\n",
       "\n",
       "    .dataframe tbody tr th {\n",
       "        vertical-align: top;\n",
       "    }\n",
       "\n",
       "    .dataframe thead th {\n",
       "        text-align: right;\n",
       "    }\n",
       "</style>\n",
       "<table border=\"1\" class=\"dataframe\">\n",
       "  <thead>\n",
       "    <tr style=\"text-align: right;\">\n",
       "      <th></th>\n",
       "      <th>Sample Size</th>\n",
       "      <th>expected prevalence</th>\n",
       "      <th>Population Size</th>\n",
       "    </tr>\n",
       "  </thead>\n",
       "  <tbody>\n",
       "    <tr>\n",
       "      <th>18</th>\n",
       "      <td>58.280235</td>\n",
       "      <td>0.1</td>\n",
       "      <td>100</td>\n",
       "    </tr>\n",
       "    <tr>\n",
       "      <th>19</th>\n",
       "      <td>72.206103</td>\n",
       "      <td>0.1</td>\n",
       "      <td>150</td>\n",
       "    </tr>\n",
       "    <tr>\n",
       "      <th>20</th>\n",
       "      <td>82.003311</td>\n",
       "      <td>0.1</td>\n",
       "      <td>200</td>\n",
       "    </tr>\n",
       "    <tr>\n",
       "      <th>21</th>\n",
       "      <td>89.270886</td>\n",
       "      <td>0.1</td>\n",
       "      <td>250</td>\n",
       "    </tr>\n",
       "    <tr>\n",
       "      <th>22</th>\n",
       "      <td>94.876533</td>\n",
       "      <td>0.1</td>\n",
       "      <td>300</td>\n",
       "    </tr>\n",
       "    <tr>\n",
       "      <th>23</th>\n",
       "      <td>99.331825</td>\n",
       "      <td>0.1</td>\n",
       "      <td>350</td>\n",
       "    </tr>\n",
       "    <tr>\n",
       "      <th>24</th>\n",
       "      <td>102.957914</td>\n",
       "      <td>0.1</td>\n",
       "      <td>400</td>\n",
       "    </tr>\n",
       "    <tr>\n",
       "      <th>25</th>\n",
       "      <td>105.966583</td>\n",
       "      <td>0.1</td>\n",
       "      <td>450</td>\n",
       "    </tr>\n",
       "    <tr>\n",
       "      <th>26</th>\n",
       "      <td>108.503155</td>\n",
       "      <td>0.1</td>\n",
       "      <td>500</td>\n",
       "    </tr>\n",
       "    <tr>\n",
       "      <th>27</th>\n",
       "      <td>71.292898</td>\n",
       "      <td>0.2</td>\n",
       "      <td>100</td>\n",
       "    </tr>\n",
       "    <tr>\n",
       "      <th>28</th>\n",
       "      <td>93.398004</td>\n",
       "      <td>0.2</td>\n",
       "      <td>150</td>\n",
       "    </tr>\n",
       "    <tr>\n",
       "      <th>29</th>\n",
       "      <td>110.534134</td>\n",
       "      <td>0.2</td>\n",
       "      <td>200</td>\n",
       "    </tr>\n",
       "    <tr>\n",
       "      <th>30</th>\n",
       "      <td>124.207456</td>\n",
       "      <td>0.2</td>\n",
       "      <td>250</td>\n",
       "    </tr>\n",
       "    <tr>\n",
       "      <th>31</th>\n",
       "      <td>135.371279</td>\n",
       "      <td>0.2</td>\n",
       "      <td>300</td>\n",
       "    </tr>\n",
       "    <tr>\n",
       "      <th>32</th>\n",
       "      <td>144.658395</td>\n",
       "      <td>0.2</td>\n",
       "      <td>350</td>\n",
       "    </tr>\n",
       "    <tr>\n",
       "      <th>33</th>\n",
       "      <td>152.505341</td>\n",
       "      <td>0.2</td>\n",
       "      <td>400</td>\n",
       "    </tr>\n",
       "    <tr>\n",
       "      <th>34</th>\n",
       "      <td>159.223006</td>\n",
       "      <td>0.2</td>\n",
       "      <td>450</td>\n",
       "    </tr>\n",
       "    <tr>\n",
       "      <th>35</th>\n",
       "      <td>165.038804</td>\n",
       "      <td>0.2</td>\n",
       "      <td>500</td>\n",
       "    </tr>\n",
       "  </tbody>\n",
       "</table>\n",
       "</div>"
      ],
      "text/plain": [
       "    Sample Size  expected prevalence  Population Size\n",
       "18    58.280235                  0.1              100\n",
       "19    72.206103                  0.1              150\n",
       "20    82.003311                  0.1              200\n",
       "21    89.270886                  0.1              250\n",
       "22    94.876533                  0.1              300\n",
       "23    99.331825                  0.1              350\n",
       "24   102.957914                  0.1              400\n",
       "25   105.966583                  0.1              450\n",
       "26   108.503155                  0.1              500\n",
       "27    71.292898                  0.2              100\n",
       "28    93.398004                  0.2              150\n",
       "29   110.534134                  0.2              200\n",
       "30   124.207456                  0.2              250\n",
       "31   135.371279                  0.2              300\n",
       "32   144.658395                  0.2              350\n",
       "33   152.505341                  0.2              400\n",
       "34   159.223006                  0.2              450\n",
       "35   165.038804                  0.2              500"
      ]
     },
     "execution_count": 25,
     "metadata": {},
     "output_type": "execute_result"
    }
   ],
   "source": [
    "df[df['expected prevalence'].isin([0.1, 0.2])]"
   ]
  },
  {
   "cell_type": "code",
   "execution_count": 23,
   "metadata": {},
   "outputs": [
    {
     "data": {
      "image/png": "[encoded data removed]",
      "text/plain": [
       "<Figure size 432x432 with 1 Axes>"
      ]
     },
     "metadata": {
      "needs_background": "light"
     },
     "output_type": "display_data"
    }
   ],
   "source": [
    "fig, ax = plt.subplots(figsize=(6, 6))\n",
    "\n",
    "sns.pointplot(x='Population Size',\n",
    "            y='Sample Size',\n",
    "            hue='expected prevalence', ax = ax,\n",
    "            data=df)\n",
    "ax.set_xticklabels(Ns)\n",
    "ax.set_title('Sample Size required for prevalence estimation\\n\\n\\n')\n",
    "text2 = 'the Y axis represents number of individuals to be tested\\nsample size estimation using finite population correction\\nto detect subclinical prevalence of pox infection'\n",
    "ax.text(-0.0, 1.02, text2, verticalalignment='bottom', \n",
    "         horizontalalignment='left',\n",
    "         transform=ax.transAxes,\n",
    "         color='gray', fontsize=13)\n",
    "plt.tight_layout()\n",
    "plt.savefig('Sample_size_subclinical.png', dpi = dpi)\n",
    "plt.show()"
   ]
  }
 ],
 "metadata": {
  "kernelspec": {
   "display_name": "Python 3 (ipykernel)",
   "language": "python",
   "name": "python3"
  },
  "language_info": {
   "codemirror_mode": {
    "name": "ipython",
    "version": 3
   },
   "file_extension": ".py",
   "mimetype": "text/x-python",
   "name": "python",
   "nbconvert_exporter": "python",
   "pygments_lexer": "ipython3",
   "version": "3.11.6"
  },
  "toc": {
   "base_numbering": 1,
   "nav_menu": {},
   "number_sections": true,
   "sideBar": true,
   "skip_h1_title": false,
   "title_cell": "Table of Contents",
   "title_sidebar": "Contents",
   "toc_cell": false,
   "toc_position": {},
   "toc_section_display": true,
   "toc_window_display": false
  },
  "varInspector": {
   "cols": {
    "lenName": 16,
    "lenType": 16,
    "lenVar": 40
   },
   "kernels_config": {
    "python": {
     "delete_cmd_postfix": "",
     "delete_cmd_prefix": "del ",
     "library": "var_list.py",
     "varRefreshCmd": "print(var_dic_list())"
    },
    "r": {
     "delete_cmd_postfix": ") ",
     "delete_cmd_prefix": "rm(",
     "library": "var_list.r",
     "varRefreshCmd": "cat(var_dic_list()) "
    }
   },
   "types_to_exclude": [
    "module",
    "function",
    "builtin_function_or_method",
    "instance",
    "_Feature"
   ],
   "window_display": false
  }
 },
 "nbformat": 4,
 "nbformat_minor": 4
}
